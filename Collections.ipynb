Collections
The collections module in Python implements specialized container datatypes providing alternatives to Python’s general purpose
built-in containers, dict, list, set, and tuple.
